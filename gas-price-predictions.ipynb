{
 "cells": [
  {
   "cell_type": "code",
   "execution_count": 1,
   "metadata": {},
   "outputs": [],
   "source": [
    "import pandas as pd"
   ]
  },
  {
   "cell_type": "code",
   "execution_count": 13,
   "metadata": {},
   "outputs": [
    {
     "name": "stdout",
     "output_type": "stream",
     "text": [
      "# Sampling 5% of transactions\n",
      "\n",
      "# from 2021-01-06 00:00:00 to 2021-01-07 00:00:00\n",
      "\n"
     ]
    }
   ],
   "source": [
    "filename = \"gas_prices_2021-01-06_2021-01-07_5%-sampling.csv\"\n",
    "\n",
    "# first two lines are comments\n",
    "f = open(filename)\n",
    "print(f.readline())\n",
    "print(f.readline())\n",
    "\n",
    "df = pd.read_csv(f, delimiter='\\t')"
   ]
  },
  {
   "cell_type": "code",
   "execution_count": 14,
   "metadata": {},
   "outputs": [
    {
     "data": {
      "text/html": [
       "<div>\n",
       "<style scoped>\n",
       "    .dataframe tbody tr th:only-of-type {\n",
       "        vertical-align: middle;\n",
       "    }\n",
       "\n",
       "    .dataframe tbody tr th {\n",
       "        vertical-align: top;\n",
       "    }\n",
       "\n",
       "    .dataframe thead th {\n",
       "        text-align: right;\n",
       "    }\n",
       "</style>\n",
       "<table border=\"1\" class=\"dataframe\">\n",
       "  <thead>\n",
       "    <tr style=\"text-align: right;\">\n",
       "      <th></th>\n",
       "      <th>blockNum</th>\n",
       "      <th>txnID</th>\n",
       "      <th>gasPrice</th>\n",
       "    </tr>\n",
       "  </thead>\n",
       "  <tbody>\n",
       "    <tr>\n",
       "      <th>0</th>\n",
       "      <td>11597689</td>\n",
       "      <td>0xa82153cd764e27093bcdcf84acca4237c9238798ecca...</td>\n",
       "      <td>72000000000</td>\n",
       "    </tr>\n",
       "    <tr>\n",
       "      <th>1</th>\n",
       "      <td>11597689</td>\n",
       "      <td>0xa524f8ce1be4b130ccf1e96a1734a970910a6122a644...</td>\n",
       "      <td>72000000000</td>\n",
       "    </tr>\n",
       "    <tr>\n",
       "      <th>2</th>\n",
       "      <td>11597689</td>\n",
       "      <td>0x431d533c15e1c29bcbe2a223516a20b857aeba6cd55d...</td>\n",
       "      <td>72000000000</td>\n",
       "    </tr>\n",
       "    <tr>\n",
       "      <th>3</th>\n",
       "      <td>11597689</td>\n",
       "      <td>0xe2933b59a5887f1179f3dc45dd0e16826625359f639d...</td>\n",
       "      <td>72000000000</td>\n",
       "    </tr>\n",
       "    <tr>\n",
       "      <th>4</th>\n",
       "      <td>11597689</td>\n",
       "      <td>0x52b5e886a6904489ac291198451d31196f69ea9114f5...</td>\n",
       "      <td>76650000000</td>\n",
       "    </tr>\n",
       "    <tr>\n",
       "      <th>...</th>\n",
       "      <td>...</td>\n",
       "      <td>...</td>\n",
       "      <td>...</td>\n",
       "    </tr>\n",
       "    <tr>\n",
       "      <th>64037</th>\n",
       "      <td>11604174</td>\n",
       "      <td>0x4932fe85b2ac55242b6895ba9ce455a73047baaae511...</td>\n",
       "      <td>102500000000</td>\n",
       "    </tr>\n",
       "    <tr>\n",
       "      <th>64038</th>\n",
       "      <td>11604174</td>\n",
       "      <td>0x4bb285b5ea18867ef690c015b3a05917118d81f5a8d0...</td>\n",
       "      <td>100000000000</td>\n",
       "    </tr>\n",
       "    <tr>\n",
       "      <th>64039</th>\n",
       "      <td>11604174</td>\n",
       "      <td>0x2b1d57251ba9f4d63e0472f3123685ba2cf738a9fff4...</td>\n",
       "      <td>99000000000</td>\n",
       "    </tr>\n",
       "    <tr>\n",
       "      <th>64040</th>\n",
       "      <td>11604174</td>\n",
       "      <td>0x73cd75493cd576a6c5959c72445985db3bc79c3a3e4d...</td>\n",
       "      <td>96000000000</td>\n",
       "    </tr>\n",
       "    <tr>\n",
       "      <th>64041</th>\n",
       "      <td>11604174</td>\n",
       "      <td>0x4576cc969c5af5ee7a88281d679d987bf8c19d352f1f...</td>\n",
       "      <td>95000000000</td>\n",
       "    </tr>\n",
       "  </tbody>\n",
       "</table>\n",
       "<p>64042 rows × 3 columns</p>\n",
       "</div>"
      ],
      "text/plain": [
       "       blockNum                                              txnID  \\\n",
       "0      11597689  0xa82153cd764e27093bcdcf84acca4237c9238798ecca...   \n",
       "1      11597689  0xa524f8ce1be4b130ccf1e96a1734a970910a6122a644...   \n",
       "2      11597689  0x431d533c15e1c29bcbe2a223516a20b857aeba6cd55d...   \n",
       "3      11597689  0xe2933b59a5887f1179f3dc45dd0e16826625359f639d...   \n",
       "4      11597689  0x52b5e886a6904489ac291198451d31196f69ea9114f5...   \n",
       "...         ...                                                ...   \n",
       "64037  11604174  0x4932fe85b2ac55242b6895ba9ce455a73047baaae511...   \n",
       "64038  11604174  0x4bb285b5ea18867ef690c015b3a05917118d81f5a8d0...   \n",
       "64039  11604174  0x2b1d57251ba9f4d63e0472f3123685ba2cf738a9fff4...   \n",
       "64040  11604174  0x73cd75493cd576a6c5959c72445985db3bc79c3a3e4d...   \n",
       "64041  11604174  0x4576cc969c5af5ee7a88281d679d987bf8c19d352f1f...   \n",
       "\n",
       "           gasPrice  \n",
       "0       72000000000  \n",
       "1       72000000000  \n",
       "2       72000000000  \n",
       "3       72000000000  \n",
       "4       76650000000  \n",
       "...             ...  \n",
       "64037  102500000000  \n",
       "64038  100000000000  \n",
       "64039   99000000000  \n",
       "64040   96000000000  \n",
       "64041   95000000000  \n",
       "\n",
       "[64042 rows x 3 columns]"
      ]
     },
     "execution_count": 14,
     "metadata": {},
     "output_type": "execute_result"
    }
   ],
   "source": [
    "df"
   ]
  },
  {
   "cell_type": "code",
   "execution_count": 17,
   "metadata": {},
   "outputs": [
    {
     "data": {
      "text/plain": [
       "blockNum\n",
       "11597689     72000000000\n",
       "11597690     70000000000\n",
       "11597691    109523809523\n",
       "11597692      1000000000\n",
       "11597693     88000000000\n",
       "                ...     \n",
       "11604170     82000000000\n",
       "11604171     95000000000\n",
       "11604172     89000001459\n",
       "11604173     81000000000\n",
       "11604174     95000000000\n",
       "Name: gasPrice, Length: 6359, dtype: int64"
      ]
     },
     "execution_count": 17,
     "metadata": {},
     "output_type": "execute_result"
    }
   ],
   "source": [
    "# get minimum gas price for each block\n",
    "df_mins = df.groupby(\"blockNum\", as_index=True)[\"gasPrice\"].min()\n",
    "df_mins"
   ]
  },
  {
   "cell_type": "markdown",
   "metadata": {},
   "source": [
    "# How many of these (sampled) transactions have a gas price greater than the min of the next block?"
   ]
  },
  {
   "cell_type": "code",
   "execution_count": 33,
   "metadata": {},
   "outputs": [],
   "source": [
    "# TODO: how to do without for-loop?\n",
    "yes = 0\n",
    "no = 0\n",
    "for _, row in df.T.iteritems():\n",
    "    if row['blockNum'] + 1 not in df_mins.index:\n",
    "        continue\n",
    "    if row['gasPrice'] > df_mins.loc[row['blockNum'] + 1]:\n",
    "        yes += 1\n",
    "    else:\n",
    "        no += 1"
   ]
  },
  {
   "cell_type": "code",
   "execution_count": 35,
   "metadata": {},
   "outputs": [
    {
     "data": {
      "text/plain": [
       "0.7990965628032002"
      ]
     },
     "execution_count": 35,
     "metadata": {},
     "output_type": "execute_result"
    }
   ],
   "source": [
    "yes / (yes + no)"
   ]
  },
  {
   "cell_type": "markdown",
   "metadata": {},
   "source": [
    "# TODO: statistical significance testing\n",
    "There are several layers to this:\n",
    "- the computed proportion is only representative of a sample\n",
    "- whether or not a given txn has a gas price greater than the min of the next block, is approximated (since we don't have all txns in the next block, thus min is an approx)\n",
    "- and, of course, we have to account for uncertainty given by small sample range (a few days); i.e. get more data"
   ]
  },
  {
   "cell_type": "markdown",
   "metadata": {},
   "source": [
    "## Other things:\n",
    "- We are assuming that all txns of at least gas price x will get mined. This isn't necessarily the case for several reasons, but I think it's a good enough assumption that is mostly true.\n",
    "- There is probably a long-tail thing going on: when a txn wouldn't get mined in the next block (i.e. it's gas price is less than the min of the next block) then it probably won't get mined in the one after that -- these kinds of things probably result from a price spike."
   ]
  },
  {
   "cell_type": "code",
   "execution_count": null,
   "metadata": {},
   "outputs": [],
   "source": []
  }
 ],
 "metadata": {
  "kernelspec": {
   "display_name": "Python 3",
   "language": "python",
   "name": "python3"
  },
  "language_info": {
   "codemirror_mode": {
    "name": "ipython",
    "version": 3
   },
   "file_extension": ".py",
   "mimetype": "text/x-python",
   "name": "python",
   "nbconvert_exporter": "python",
   "pygments_lexer": "ipython3",
   "version": "3.8.3"
  }
 },
 "nbformat": 4,
 "nbformat_minor": 4
}
